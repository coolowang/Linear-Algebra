{
 "cells": [
  {
   "cell_type": "code",
   "execution_count": 2,
   "metadata": {},
   "outputs": [
    {
     "name": "stdout",
     "output_type": "stream",
     "text": [
      "Matrix A: The quantities: \n",
      "\n",
      "[[  1030    460    308      0      0]\n",
      " [207873 360946 419497 255677 231644]\n",
      " [ 24098  20289  36651  37299  36331]\n",
      " [182751 204465 213333 247807 257715]\n",
      " [ 26251  29420  43884  38408  38133]\n",
      " [174890 198527 219699 202881 184766]\n",
      " [ 93870 115438 145771 182936 210991]]\n",
      " \n",
      "\n",
      "Matrix B: The dollar values \n",
      "\n",
      "[[   6111342    2642346    1625113          0          0]\n",
      " [1028699017 2018418079 2477308573 1407211854 1321359762]\n",
      " [ 224671842  217543079  306085289  289197547  272226265]\n",
      " [ 797288247 1109521158 1133404494 1179388140 1265644208]\n",
      " [ 154899522  186463377  279855019  224727249  224072284]\n",
      " [ 817077074  997985988 1200336982  918881537  884876984]\n",
      " [ 547137064  786799462 1007934832 1012735225 1018182179]]\n",
      " \n",
      "\n",
      "Vector b: Total dollar value of imports by country \n",
      "\n",
      "[  10378801 8252997285 1309724022 5485246247 1070017451 4819158565\n",
      " 4372788762]\n"
     ]
    },
    {
     "data": {
      "text/plain": [
       "5"
      ]
     },
     "execution_count": 2,
     "metadata": {},
     "output_type": "execute_result"
    }
   ],
   "source": [
    "import numpy as np\n",
    "import pandas as pd\n",
    "from numpy import linalg as LA\n",
    "A=np.array([\n",
    "    [1030, 460, 308, 0, 0]\n",
    "    ,[207873,360946,419497,255677,231644]\n",
    "    ,[24098,20289,36651,37299,36331]\n",
    "    ,[182751,204465,213333,247807,257715]\n",
    "    ,[26251,29420,43884,38408,38133]\n",
    "    ,[174890,198527,219699,202881,184766]\n",
    "    ,[93870,115438,145771,182936,210991]\n",
    "])\n",
    "print('Matrix A: The quantities: \\n')\n",
    "print(A)\n",
    "print(' \\n')\n",
    "\n",
    "B=np.array([\n",
    "    [6111342,2642346,1625113,0,0]\n",
    "    ,[1028699017,2018418079,2477308573,1407211854, 1321359762]\n",
    "    ,[224671842,217543079,306085289,289197547,272226265]\n",
    "    ,[797288247,1109521158,1133404494,1179388140,1265644208]\n",
    "    ,[154899522,186463377,279855019,224727249,224072284]\n",
    "    ,[817077074,997985988,1200336982,918881537,884876984]\n",
    "    ,[547137064,786799462,1007934832,1012735225,1018182179]\n",
    "])\n",
    "\n",
    "print('Matrix B: The dollar values \\n')\n",
    "print(B)\n",
    "print(' \\n')\n",
    "\n",
    "\n",
    "b=np.array([10378801,8252997285, 1309724022,5485246247,1070017451,4819158565,4372788762])\n",
    "print('Vector b: Total dollar value of imports by country \\n')\n",
    "print(b)\n",
    "\n",
    "np.linalg.matrix_rank(A)\n",
    "np.linalg.matrix_rank(B)"
   ]
  },
  {
   "cell_type": "code",
   "execution_count": 8,
   "metadata": {},
   "outputs": [
    {
     "data": {
      "text/plain": [
       "5"
      ]
     },
     "execution_count": 8,
     "metadata": {},
     "output_type": "execute_result"
    }
   ],
   "source": [
    "np.linalg.matrix_rank(A)"
   ]
  },
  {
   "cell_type": "code",
   "execution_count": 2,
   "metadata": {},
   "outputs": [
    {
     "name": "stdout",
     "output_type": "stream",
     "text": [
      "The average price of beef that year \n",
      "\n",
      "[ 29196.18906129 -31202.21480234  41915.56548473 -58848.48870257\n",
      "  47034.33386462]\n"
     ]
    }
   ],
   "source": [
    "w, Res, rank, sv=LA.lstsq(A,b)\n",
    "print('The average price of beef that year across countries \\n')\n",
    "print(w)"
   ]
  },
  {
   "cell_type": "code",
   "execution_count": 6,
   "metadata": {},
   "outputs": [
    {
     "name": "stdout",
     "output_type": "stream",
     "text": [
      "The predicted value of imports by country\n",
      "[  2.86290501e+07   8.23925495e+09   1.12057002e+09   5.43623114e+09\n",
      "   1.22119017e+09   4.87155272e+09   4.40711290e+09]\n"
     ]
    }
   ],
   "source": [
    "c=np.dot(A,w)\n",
    "print('The predicted value of imports by country')\n",
    "print(c)"
   ]
  },
  {
   "cell_type": "code",
   "execution_count": 7,
   "metadata": {},
   "outputs": [
    {
     "data": {
      "text/plain": [
       "array([ -1.82502491e+07,   1.37423384e+07,   1.89154000e+08,\n",
       "         4.90151059e+07,  -1.51172723e+08,  -5.23941577e+07,\n",
       "        -3.43241362e+07])"
      ]
     },
     "execution_count": 7,
     "metadata": {},
     "output_type": "execute_result"
    }
   ],
   "source": [
    "b-c"
   ]
  },
  {
   "cell_type": "code",
   "execution_count": 9,
   "metadata": {},
   "outputs": [
    {
     "data": {
      "text/plain": [
       "array([     0.        ,      0.        ,  13819.25719807,      0.        ,\n",
       "        10404.89894146])"
      ]
     },
     "execution_count": 9,
     "metadata": {},
     "output_type": "execute_result"
    }
   ],
   "source": [
    "from scipy.optimize import nnls\n",
    "solution = nnls(A, b)[0]\n",
    "solution"
   ]
  },
  {
   "cell_type": "code",
   "execution_count": 6,
   "metadata": {},
   "outputs": [
    {
     "name": "stdout",
     "output_type": "stream",
     "text": [
      "[[  1030 207873  24098 182751  26251 174890  93870]\n",
      " [   460 360946  20289 204465  29420 198527 115438]\n",
      " [   308 419497  36651 213333  43884 219699 145771]\n",
      " [     0 255677  37299 247807  38408 202881 182936]\n",
      " [     0 231644  36331 257715  38133 184766 210991]]\n"
     ]
    }
   ],
   "source": [
    "print(A.T)"
   ]
  },
  {
   "cell_type": "code",
   "execution_count": 37,
   "metadata": {
    "scrolled": true
   },
   "outputs": [
    {
     "name": "stdout",
     "output_type": "stream",
     "text": [
      "Average price for that country across years\n",
      "[ 1060.55288016  9951.13400161  7021.42053684   584.21698168  7366.77811148\n",
      "  1612.27262877  8041.92583627]\n"
     ]
    }
   ],
   "source": [
    "B.T.sum(axis=1)\n",
    "w1, res1, Rank1, sv1=LA.lstsq(A.T, B.T.sum(axis=1))\n",
    "print('Average price for that country across years')\n",
    "print(w1)"
   ]
  },
  {
   "cell_type": "code",
   "execution_count": 6,
   "metadata": {},
   "outputs": [
    {
     "data": {
      "text/plain": [
       "(33, 6)"
      ]
     },
     "execution_count": 6,
     "metadata": {},
     "output_type": "execute_result"
    }
   ],
   "source": [
    "data='Data.xlsx'\n",
    "data=pd.read_excel(data, sheetname='new')\n",
    "data\n",
    "A1=data[data.columns[0:6]]\n",
    "b1=data[data.columns[6]]\n",
    "A1.shape"
   ]
  },
  {
   "cell_type": "code",
   "execution_count": 38,
   "metadata": {},
   "outputs": [
    {
     "name": "stdout",
     "output_type": "stream",
     "text": [
      "Beef with Years as Dummy Variables\n",
      "[  5.19906779e+03  -1.70602041e+07   4.99965247e+07   1.04653784e+08\n",
      "   3.78669066e+07  -4.26890655e+05]\n"
     ]
    }
   ],
   "source": [
    "w2, res2, Rank2, sv1=LA.lstsq(A1, b1)\n",
    "print('Beef with Years as Dummy Variables')\n",
    "print(w2)"
   ]
  },
  {
   "cell_type": "code",
   "execution_count": 18,
   "metadata": {},
   "outputs": [
    {
     "data": {
      "text/plain": [
       "array([  5.19906779e+03,  -1.70602041e+07,   4.99965247e+07,\n",
       "         1.04653784e+08,   3.78669066e+07,  -4.26890655e+05])"
      ]
     },
     "execution_count": 18,
     "metadata": {},
     "output_type": "execute_result"
    }
   ],
   "source": [
    "q, r=np.linalg.qr(A1)\n",
    "x=np.linalg.solve(r, np.dot(q.T, b1))\n",
    "x"
   ]
  },
  {
   "cell_type": "code",
   "execution_count": 32,
   "metadata": {},
   "outputs": [
    {
     "data": {
      "text/html": [
       "<div>\n",
       "<style>\n",
       "    .dataframe thead tr:only-child th {\n",
       "        text-align: right;\n",
       "    }\n",
       "\n",
       "    .dataframe thead th {\n",
       "        text-align: left;\n",
       "    }\n",
       "\n",
       "    .dataframe tbody tr th {\n",
       "        vertical-align: top;\n",
       "    }\n",
       "</style>\n",
       "<table border=\"1\" class=\"dataframe\">\n",
       "  <thead>\n",
       "    <tr style=\"text-align: right;\">\n",
       "      <th></th>\n",
       "      <th>Unnamed: 9</th>\n",
       "      <th>Unnamed: 10</th>\n",
       "      <th>Unnamed: 11</th>\n",
       "      <th>Unnamed: 12</th>\n",
       "      <th>Unnamed: 13</th>\n",
       "      <th>Unnamed: 14</th>\n",
       "    </tr>\n",
       "  </thead>\n",
       "  <tbody>\n",
       "    <tr>\n",
       "      <th>7</th>\n",
       "      <td>3506</td>\n",
       "      <td>239028</td>\n",
       "      <td>108483</td>\n",
       "      <td>3253.5</td>\n",
       "      <td>199346</td>\n",
       "      <td>138544</td>\n",
       "    </tr>\n",
       "    <tr>\n",
       "      <th>8</th>\n",
       "      <td>7856.5</td>\n",
       "      <td>101321</td>\n",
       "      <td>38496.4</td>\n",
       "      <td>432946</td>\n",
       "      <td>28632.7</td>\n",
       "      <td>160106</td>\n",
       "    </tr>\n",
       "    <tr>\n",
       "      <th>9</th>\n",
       "      <td>8047.1</td>\n",
       "      <td>56682.5</td>\n",
       "      <td>59530.1</td>\n",
       "      <td>5319.3</td>\n",
       "      <td>6552.5</td>\n",
       "      <td>33398.7</td>\n",
       "    </tr>\n",
       "    <tr>\n",
       "      <th>10</th>\n",
       "      <td>3947.9</td>\n",
       "      <td>178318</td>\n",
       "      <td>108869</td>\n",
       "      <td>61999.9</td>\n",
       "      <td>18799.5</td>\n",
       "      <td>743535</td>\n",
       "    </tr>\n",
       "    <tr>\n",
       "      <th>11</th>\n",
       "      <td>226167</td>\n",
       "      <td>7.9045e+06</td>\n",
       "      <td>3.4247e+06</td>\n",
       "      <td>819321</td>\n",
       "      <td>6848331</td>\n",
       "      <td>959473</td>\n",
       "    </tr>\n",
       "    <tr>\n",
       "      <th>12</th>\n",
       "      <td>23293.2</td>\n",
       "      <td>16491.4</td>\n",
       "      <td>979125</td>\n",
       "      <td>3527.9</td>\n",
       "      <td>12074.9</td>\n",
       "      <td>7736.4</td>\n",
       "    </tr>\n",
       "    <tr>\n",
       "      <th>13</th>\n",
       "      <td>271</td>\n",
       "      <td>233883</td>\n",
       "      <td>1.07497e+06</td>\n",
       "      <td>54708.3</td>\n",
       "      <td>134814</td>\n",
       "      <td>197195</td>\n",
       "    </tr>\n",
       "    <tr>\n",
       "      <th>14</th>\n",
       "      <td>1125.6</td>\n",
       "      <td>27588.6</td>\n",
       "      <td>376015</td>\n",
       "      <td>4270.7</td>\n",
       "      <td>12794.4</td>\n",
       "      <td>459882</td>\n",
       "    </tr>\n",
       "    <tr>\n",
       "      <th>15</th>\n",
       "      <td>919.5</td>\n",
       "      <td>9819.7</td>\n",
       "      <td>132292</td>\n",
       "      <td>368.8</td>\n",
       "      <td>1482.9</td>\n",
       "      <td>236866</td>\n",
       "    </tr>\n",
       "    <tr>\n",
       "      <th>16</th>\n",
       "      <td>23972.8</td>\n",
       "      <td>278053</td>\n",
       "      <td>96169.1</td>\n",
       "      <td>6900.8</td>\n",
       "      <td>19226.6</td>\n",
       "      <td>119542</td>\n",
       "    </tr>\n",
       "    <tr>\n",
       "      <th>17</th>\n",
       "      <td>4260</td>\n",
       "      <td>307553</td>\n",
       "      <td>157600</td>\n",
       "      <td>7829.3</td>\n",
       "      <td>346721</td>\n",
       "      <td>503275</td>\n",
       "    </tr>\n",
       "    <tr>\n",
       "      <th>18</th>\n",
       "      <td>11.1</td>\n",
       "      <td>10565.8</td>\n",
       "      <td>60270.2</td>\n",
       "      <td>13945</td>\n",
       "      <td>2.46219e+06</td>\n",
       "      <td>817576</td>\n",
       "    </tr>\n",
       "    <tr>\n",
       "      <th>19</th>\n",
       "      <td>3145.4</td>\n",
       "      <td>18245.4</td>\n",
       "      <td>60906.4</td>\n",
       "      <td>80</td>\n",
       "      <td>2152.3</td>\n",
       "      <td>8027.5</td>\n",
       "    </tr>\n",
       "    <tr>\n",
       "      <th>20</th>\n",
       "      <td>51582.1</td>\n",
       "      <td>266872</td>\n",
       "      <td>253884</td>\n",
       "      <td>12029.4</td>\n",
       "      <td>125237</td>\n",
       "      <td>34315.5</td>\n",
       "    </tr>\n",
       "    <tr>\n",
       "      <th>21</th>\n",
       "      <td>10714.9</td>\n",
       "      <td>51184.6</td>\n",
       "      <td>51907.8</td>\n",
       "      <td>2528.7</td>\n",
       "      <td>1175.6</td>\n",
       "      <td>5068.2</td>\n",
       "    </tr>\n",
       "    <tr>\n",
       "      <th>22</th>\n",
       "      <td>64185.5</td>\n",
       "      <td>900486</td>\n",
       "      <td>1.0574e+07</td>\n",
       "      <td>257493</td>\n",
       "      <td>97881.2</td>\n",
       "      <td>1.66914e+06</td>\n",
       "    </tr>\n",
       "    <tr>\n",
       "      <th>23</th>\n",
       "      <td>44813.9</td>\n",
       "      <td>56950.5</td>\n",
       "      <td>151752</td>\n",
       "      <td>14971.3</td>\n",
       "      <td>29837.9</td>\n",
       "      <td>96433</td>\n",
       "    </tr>\n",
       "    <tr>\n",
       "      <th>24</th>\n",
       "      <td>105240</td>\n",
       "      <td>3438.6</td>\n",
       "      <td>60017.4</td>\n",
       "      <td>269347</td>\n",
       "      <td>1299.4</td>\n",
       "      <td>5272.3</td>\n",
       "    </tr>\n",
       "    <tr>\n",
       "      <th>25</th>\n",
       "      <td>11981.1</td>\n",
       "      <td>379.6</td>\n",
       "      <td>58656.2</td>\n",
       "      <td>46208.6</td>\n",
       "      <td>5378.1</td>\n",
       "      <td>190679</td>\n",
       "    </tr>\n",
       "    <tr>\n",
       "      <th>26</th>\n",
       "      <td>411.7</td>\n",
       "      <td>12545.4</td>\n",
       "      <td>217730</td>\n",
       "      <td>28.5</td>\n",
       "      <td>286843</td>\n",
       "      <td>198459</td>\n",
       "    </tr>\n",
       "    <tr>\n",
       "      <th>27</th>\n",
       "      <td>6200.4</td>\n",
       "      <td>22342.1</td>\n",
       "      <td>56474.9</td>\n",
       "      <td>71862.8</td>\n",
       "      <td>1145.3</td>\n",
       "      <td>29747.4</td>\n",
       "    </tr>\n",
       "    <tr>\n",
       "      <th>28</th>\n",
       "      <td>11598.8</td>\n",
       "      <td>27096.7</td>\n",
       "      <td>189483</td>\n",
       "      <td>12196.5</td>\n",
       "      <td>150738</td>\n",
       "      <td>76459.2</td>\n",
       "    </tr>\n",
       "    <tr>\n",
       "      <th>29</th>\n",
       "      <td>1465.1</td>\n",
       "      <td>633106</td>\n",
       "      <td>548279</td>\n",
       "      <td>1216.2</td>\n",
       "      <td>4030.3</td>\n",
       "      <td>231083</td>\n",
       "    </tr>\n",
       "    <tr>\n",
       "      <th>30</th>\n",
       "      <td>111.9</td>\n",
       "      <td>45371.7</td>\n",
       "      <td>173315</td>\n",
       "      <td>444.7</td>\n",
       "      <td>3426.2</td>\n",
       "      <td>372099</td>\n",
       "    </tr>\n",
       "    <tr>\n",
       "      <th>31</th>\n",
       "      <td>NaN</td>\n",
       "      <td>NaN</td>\n",
       "      <td>NaN</td>\n",
       "      <td>NaN</td>\n",
       "      <td>NaN</td>\n",
       "      <td>NaN</td>\n",
       "    </tr>\n",
       "  </tbody>\n",
       "</table>\n",
       "</div>"
      ],
      "text/plain": [
       "   Unnamed: 9 Unnamed: 10  Unnamed: 11 Unnamed: 12  Unnamed: 13  Unnamed: 14\n",
       "7        3506      239028       108483      3253.5       199346       138544\n",
       "8      7856.5      101321      38496.4      432946      28632.7       160106\n",
       "9      8047.1     56682.5      59530.1      5319.3       6552.5      33398.7\n",
       "10     3947.9      178318       108869     61999.9      18799.5       743535\n",
       "11     226167  7.9045e+06   3.4247e+06      819321      6848331       959473\n",
       "12    23293.2     16491.4       979125      3527.9      12074.9       7736.4\n",
       "13        271      233883  1.07497e+06     54708.3       134814       197195\n",
       "14     1125.6     27588.6       376015      4270.7      12794.4       459882\n",
       "15      919.5      9819.7       132292       368.8       1482.9       236866\n",
       "16    23972.8      278053      96169.1      6900.8      19226.6       119542\n",
       "17       4260      307553       157600      7829.3       346721       503275\n",
       "18       11.1     10565.8      60270.2       13945  2.46219e+06       817576\n",
       "19     3145.4     18245.4      60906.4          80       2152.3       8027.5\n",
       "20    51582.1      266872       253884     12029.4       125237      34315.5\n",
       "21    10714.9     51184.6      51907.8      2528.7       1175.6       5068.2\n",
       "22    64185.5      900486   1.0574e+07      257493      97881.2  1.66914e+06\n",
       "23    44813.9     56950.5       151752     14971.3      29837.9        96433\n",
       "24     105240      3438.6      60017.4      269347       1299.4       5272.3\n",
       "25    11981.1       379.6      58656.2     46208.6       5378.1       190679\n",
       "26      411.7     12545.4       217730        28.5       286843       198459\n",
       "27     6200.4     22342.1      56474.9     71862.8       1145.3      29747.4\n",
       "28    11598.8     27096.7       189483     12196.5       150738      76459.2\n",
       "29     1465.1      633106       548279      1216.2       4030.3       231083\n",
       "30      111.9     45371.7       173315       444.7       3426.2       372099\n",
       "31        NaN         NaN          NaN         NaN          NaN          NaN"
      ]
     },
     "execution_count": 32,
     "metadata": {},
     "output_type": "execute_result"
    }
   ],
   "source": [
    "file='GATSPublish.xls'\n",
    "x1=pd.read_excel(file, sheetname='2017')\n",
    "x1=x1.iloc[7:32]\n",
    "quantities=x1.iloc[0:30, 9:15]\n",
    "values=x1.iloc[0:30, 15]\n",
    "quantities\n",
    "#unit_value=x1.iloc[0:30, 1:7]\n",
    "#quantity=x1.iloc[0:30,9:15]\n",
    "#total_value=x1.iloc[0:30,17:23]\n",
    "#total_value.as_matrix()"
   ]
  },
  {
   "cell_type": "code",
   "execution_count": 20,
   "metadata": {},
   "outputs": [
    {
     "ename": "NameError",
     "evalue": "name 'quantities' is not defined",
     "output_type": "error",
     "traceback": [
      "\u001b[1;31m---------------------------------------------------------------------------\u001b[0m",
      "\u001b[1;31mNameError\u001b[0m                                 Traceback (most recent call last)",
      "\u001b[1;32m<ipython-input-20-d4e3961ce947>\u001b[0m in \u001b[0;36m<module>\u001b[1;34m()\u001b[0m\n\u001b[1;32m----> 1\u001b[1;33m \u001b[0mw2\u001b[0m\u001b[1;33m,\u001b[0m \u001b[0mRes2\u001b[0m\u001b[1;33m,\u001b[0m \u001b[0mrank2\u001b[0m\u001b[1;33m,\u001b[0m \u001b[0msv2\u001b[0m\u001b[1;33m=\u001b[0m\u001b[0mLA\u001b[0m\u001b[1;33m.\u001b[0m\u001b[0mlstsq\u001b[0m\u001b[1;33m(\u001b[0m\u001b[0mquantities\u001b[0m\u001b[1;33m.\u001b[0m\u001b[0mas_matrix\u001b[0m\u001b[1;33m(\u001b[0m\u001b[1;33m)\u001b[0m\u001b[1;33m,\u001b[0m\u001b[0mvalues\u001b[0m\u001b[1;33m.\u001b[0m\u001b[0mas_matrix\u001b[0m\u001b[1;33m(\u001b[0m\u001b[1;33m)\u001b[0m\u001b[1;33m)\u001b[0m\u001b[1;33m\u001b[0m\u001b[0m\n\u001b[0m\u001b[0;32m      2\u001b[0m \u001b[0mprint\u001b[0m\u001b[1;33m(\u001b[0m\u001b[1;34m'The average price for each quantity \\n'\u001b[0m\u001b[1;33m)\u001b[0m\u001b[1;33m\u001b[0m\u001b[0m\n\u001b[0;32m      3\u001b[0m \u001b[0mprint\u001b[0m\u001b[1;33m(\u001b[0m\u001b[0mw2\u001b[0m\u001b[1;33m)\u001b[0m\u001b[1;33m\u001b[0m\u001b[0m\n",
      "\u001b[1;31mNameError\u001b[0m: name 'quantities' is not defined"
     ]
    }
   ],
   "source": [
    "w2, Res2, rank2, sv2=LA.lstsq(quantities.as_matrix(),values.as_matrix())\n",
    "print('The average price for each quantity \\n')\n",
    "print(w2)"
   ]
  },
  {
   "cell_type": "code",
   "execution_count": 113,
   "metadata": {},
   "outputs": [
    {
     "data": {
      "text/plain": [
       "array([[1029.9, 2013],\n",
       "       [207873.1, 2013],\n",
       "       [24098.2, 2013],\n",
       "       [182751.3, 2013],\n",
       "       [26250.8, 2013],\n",
       "       [174889.8, 2013],\n",
       "       [93870.0, 2013],\n",
       "       [459.8, 2014],\n",
       "       [360945.6, 2014],\n",
       "       [20289.2, 2014],\n",
       "       [204465.1, 2014],\n",
       "       [29420.1, 2014],\n",
       "       [198526.7, 2014],\n",
       "       [115438.2, 2014],\n",
       "       [307.9, 2015],\n",
       "       [419497.4, 2015],\n",
       "       [36651.1, 2015],\n",
       "       [213333.3, 2015],\n",
       "       [43884.4, 2015],\n",
       "       [219698.5, 2015],\n",
       "       [145771.0, 2015],\n",
       "       [nan, 2016],\n",
       "       [255676.5, 2016],\n",
       "       [37299.3, 2016],\n",
       "       [247806.5, 2016],\n",
       "       [38407.9, 2016],\n",
       "       [202880.5, 2016],\n",
       "       [182935.9, 2016],\n",
       "       [nan, 2017],\n",
       "       [231644.1, 2017],\n",
       "       [36330.7, 2017],\n",
       "       [257715.0, 2017],\n",
       "       [38133.3, 2017],\n",
       "       [184766.0, 2017],\n",
       "       [210991.2, 2017]], dtype=object)"
      ]
     },
     "execution_count": 113,
     "metadata": {},
     "output_type": "execute_result"
    }
   ],
   "source": [
    "A1"
   ]
  },
  {
   "cell_type": "code",
   "execution_count": null,
   "metadata": {
    "collapsed": true
   },
   "outputs": [],
   "source": []
  }
 ],
 "metadata": {
  "kernelspec": {
   "display_name": "Python 3",
   "language": "python",
   "name": "python3"
  },
  "language_info": {
   "codemirror_mode": {
    "name": "ipython",
    "version": 3
   },
   "file_extension": ".py",
   "mimetype": "text/x-python",
   "name": "python",
   "nbconvert_exporter": "python",
   "pygments_lexer": "ipython3",
   "version": "3.6.3"
  }
 },
 "nbformat": 4,
 "nbformat_minor": 2
}
